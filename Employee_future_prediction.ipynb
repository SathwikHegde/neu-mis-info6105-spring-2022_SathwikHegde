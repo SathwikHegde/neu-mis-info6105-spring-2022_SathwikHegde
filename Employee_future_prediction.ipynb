{
  "nbformat": 4,
  "nbformat_minor": 0,
  "metadata": {
    "colab": {
      "name": "Employee future prediction.ipynb",
      "provenance": [],
      "collapsed_sections": []
    },
    "kernelspec": {
      "name": "python3",
      "display_name": "Python 3"
    },
    "language_info": {
      "name": "python"
    }
  },
  "cells": [
    {
      "cell_type": "markdown",
      "source": [
        "# About The Data\n",
        "HR departments of companies would want to predict how likely are their employees decide to leave the company. Using different paremeters like Education, Experience and salary we can identify the chances of them leaving or not. We will use this dataset to create a regression model  to predict the likelihood of them leaving the company and also analysing the data to create graphs and charts."
      ],
      "metadata": {
        "id": "e9bV9shSjP3s"
      }
    },
    {
      "cell_type": "code",
      "execution_count": null,
      "metadata": {
        "id": "6fAraZL1AUCi",
        "colab": {
          "base_uri": "https://localhost:8080/"
        },
        "outputId": "018a9e84-d74d-46c9-fea6-0a70a48d92ed"
      },
      "outputs": [
        {
          "output_type": "stream",
          "name": "stdout",
          "text": [
            "Requirement already satisfied: requests in /usr/local/lib/python3.7/dist-packages (2.23.0)\n",
            "Requirement already satisfied: idna<3,>=2.5 in /usr/local/lib/python3.7/dist-packages (from requests) (2.10)\n",
            "Requirement already satisfied: certifi>=2017.4.17 in /usr/local/lib/python3.7/dist-packages (from requests) (2021.10.8)\n",
            "Requirement already satisfied: urllib3!=1.25.0,!=1.25.1,<1.26,>=1.21.1 in /usr/local/lib/python3.7/dist-packages (from requests) (1.24.3)\n",
            "Requirement already satisfied: chardet<4,>=3.0.2 in /usr/local/lib/python3.7/dist-packages (from requests) (3.0.4)\n"
          ]
        }
      ],
      "source": [
        "pip install requests\n",
        "pip install \"colorama>=0.3.8\"\n",
        "pip install future\n",
        "pip install -f http://h2o-release.s3.amazonaws.com/h2o/latest_stable_Py.html h2o"
      ]
    },
    {
      "cell_type": "code",
      "source": [
        "import h2o\n",
        "from h2o.automl import H2OAutoML\n",
        "import random, os, sys\n",
        "from datetime import datetime\n",
        "import pandas as pd\n",
        "import logging\n",
        "import csv\n",
        "import optparse\n",
        "import time\n",
        "import json\n",
        "from distutils.util import strtobool\n",
        "import psutil\n",
        "import numpy as np\n",
        "import matplotlib.pyplot as plt"
      ],
      "metadata": {
        "id": "8yNxdwDL0pFF"
      },
      "execution_count": null,
      "outputs": []
    },
    {
      "cell_type": "code",
      "source": [
        "min_mem_size=6 \n",
        "run_time=222"
      ],
      "metadata": {
        "id": "qKaxu9Du051o"
      },
      "execution_count": null,
      "outputs": []
    },
    {
      "cell_type": "code",
      "source": [
        "pct_memory=0.5\n",
        "virtual_memory=psutil.virtual_memory()\n",
        "min_mem_size=int(round(int(pct_memory*virtual_memory.available)/1073741824,0))\n",
        "print(min_mem_size)"
      ],
      "metadata": {
        "colab": {
          "base_uri": "https://localhost:8080/"
        },
        "id": "TJ-yCQye082M",
        "outputId": "9c10689e-5527-4b2c-d6c4-a5ab08f99459"
      },
      "execution_count": null,
      "outputs": [
        {
          "output_type": "stream",
          "name": "stdout",
          "text": [
            "5\n"
          ]
        }
      ]
    },
    {
      "cell_type": "code",
      "source": [
        "# 65535 Highest port no\n",
        "# Start the H2O server on a random port\n",
        "port_no=random.randint(5555,55555)\n",
        "\n",
        "#  h2o.init(strict_version_check=False,min_mem_size_GB=min_mem_size,port=port_no) # start h2o\n",
        "try:\n",
        "  h2o.init(strict_version_check=False,min_mem_size_GB=min_mem_size,port=port_no) # start h2o\n",
        "except:\n",
        "  logging.critical('h2o.init')\n",
        "  h2o.download_all_logs(dirname=logs_path, filename=logfile)      \n",
        "  h2o.cluster().shutdown()\n",
        "  sys.exit(2)"
      ],
      "metadata": {
        "colab": {
          "base_uri": "https://localhost:8080/",
          "height": 547
        },
        "id": "GMJj6SWA0-sj",
        "outputId": "1aeebacc-3abc-4abf-a473-585aa0752b1f"
      },
      "execution_count": null,
      "outputs": [
        {
          "output_type": "stream",
          "name": "stdout",
          "text": [
            "Checking whether there is an H2O instance running at http://localhost:49933 ..... not found.\n",
            "Attempting to start a local H2O server...\n",
            "  Java Version: openjdk version \"11.0.13\" 2021-10-19; OpenJDK Runtime Environment (build 11.0.13+8-Ubuntu-0ubuntu1.18.04); OpenJDK 64-Bit Server VM (build 11.0.13+8-Ubuntu-0ubuntu1.18.04, mixed mode, sharing)\n",
            "  Starting server from /usr/local/lib/python3.7/dist-packages/h2o/backend/bin/h2o.jar\n",
            "  Ice root: /tmp/tmpnhqfkux_\n",
            "  JVM stdout: /tmp/tmpnhqfkux_/h2o_unknownUser_started_from_python.out\n",
            "  JVM stderr: /tmp/tmpnhqfkux_/h2o_unknownUser_started_from_python.err\n",
            "  Server is running at http://127.0.0.1:49933\n",
            "Connecting to H2O server at http://127.0.0.1:49933 ... successful.\n"
          ]
        },
        {
          "output_type": "display_data",
          "data": {
            "text/html": [
              "<div style=\"overflow:auto\"><table style=\"width:50%\"><tr><td>H2O_cluster_uptime:</td>\n",
              "<td>04 secs</td></tr>\n",
              "<tr><td>H2O_cluster_timezone:</td>\n",
              "<td>Etc/UTC</td></tr>\n",
              "<tr><td>H2O_data_parsing_timezone:</td>\n",
              "<td>UTC</td></tr>\n",
              "<tr><td>H2O_cluster_version:</td>\n",
              "<td>3.36.0.2</td></tr>\n",
              "<tr><td>H2O_cluster_version_age:</td>\n",
              "<td>9 days </td></tr>\n",
              "<tr><td>H2O_cluster_name:</td>\n",
              "<td>H2O_from_python_unknownUser_ss52is</td></tr>\n",
              "<tr><td>H2O_cluster_total_nodes:</td>\n",
              "<td>1</td></tr>\n",
              "<tr><td>H2O_cluster_free_memory:</td>\n",
              "<td>5 Gb</td></tr>\n",
              "<tr><td>H2O_cluster_total_cores:</td>\n",
              "<td>2</td></tr>\n",
              "<tr><td>H2O_cluster_allowed_cores:</td>\n",
              "<td>2</td></tr>\n",
              "<tr><td>H2O_cluster_status:</td>\n",
              "<td>locked, healthy</td></tr>\n",
              "<tr><td>H2O_connection_url:</td>\n",
              "<td>http://127.0.0.1:49933</td></tr>\n",
              "<tr><td>H2O_connection_proxy:</td>\n",
              "<td>{\"http\": null, \"https\": null}</td></tr>\n",
              "<tr><td>H2O_internal_security:</td>\n",
              "<td>False</td></tr>\n",
              "<tr><td>H2O_API_Extensions:</td>\n",
              "<td>Amazon S3, XGBoost, Algos, Infogram, AutoML, Core V3, TargetEncoder, Core V4</td></tr>\n",
              "<tr><td>Python_version:</td>\n",
              "<td>3.7.12 final</td></tr></table></div>"
            ],
            "text/plain": [
              "--------------------------  ----------------------------------------------------------------------------\n",
              "H2O_cluster_uptime:         04 secs\n",
              "H2O_cluster_timezone:       Etc/UTC\n",
              "H2O_data_parsing_timezone:  UTC\n",
              "H2O_cluster_version:        3.36.0.2\n",
              "H2O_cluster_version_age:    9 days\n",
              "H2O_cluster_name:           H2O_from_python_unknownUser_ss52is\n",
              "H2O_cluster_total_nodes:    1\n",
              "H2O_cluster_free_memory:    5 Gb\n",
              "H2O_cluster_total_cores:    2\n",
              "H2O_cluster_allowed_cores:  2\n",
              "H2O_cluster_status:         locked, healthy\n",
              "H2O_connection_url:         http://127.0.0.1:49933\n",
              "H2O_connection_proxy:       {\"http\": null, \"https\": null}\n",
              "H2O_internal_security:      False\n",
              "H2O_API_Extensions:         Amazon S3, XGBoost, Algos, Infogram, AutoML, Core V3, TargetEncoder, Core V4\n",
              "Python_version:             3.7.12 final\n",
              "--------------------------  ----------------------------------------------------------------------------"
            ]
          },
          "metadata": {}
        }
      ]
    },
    {
      "cell_type": "code",
      "source": [
        "import h2o\n",
        "h2o.init()"
      ],
      "metadata": {
        "colab": {
          "base_uri": "https://localhost:8080/",
          "height": 389
        },
        "id": "Mly4Rz4L1Cx_",
        "outputId": "d2a0a469-c94d-4b12-d0ea-924f047a93e2"
      },
      "execution_count": null,
      "outputs": [
        {
          "output_type": "stream",
          "name": "stdout",
          "text": [
            "Checking whether there is an H2O instance running at http://localhost:54321 . connected.\n"
          ]
        },
        {
          "output_type": "display_data",
          "data": {
            "text/html": [
              "<div style=\"overflow:auto\"><table style=\"width:50%\"><tr><td>H2O_cluster_uptime:</td>\n",
              "<td>27 mins 59 secs</td></tr>\n",
              "<tr><td>H2O_cluster_timezone:</td>\n",
              "<td>Etc/UTC</td></tr>\n",
              "<tr><td>H2O_data_parsing_timezone:</td>\n",
              "<td>UTC</td></tr>\n",
              "<tr><td>H2O_cluster_version:</td>\n",
              "<td>3.36.0.2</td></tr>\n",
              "<tr><td>H2O_cluster_version_age:</td>\n",
              "<td>9 days </td></tr>\n",
              "<tr><td>H2O_cluster_name:</td>\n",
              "<td>H2O_from_python_unknownUser_ev5e9h</td></tr>\n",
              "<tr><td>H2O_cluster_total_nodes:</td>\n",
              "<td>1</td></tr>\n",
              "<tr><td>H2O_cluster_free_memory:</td>\n",
              "<td>3.058 Gb</td></tr>\n",
              "<tr><td>H2O_cluster_total_cores:</td>\n",
              "<td>2</td></tr>\n",
              "<tr><td>H2O_cluster_allowed_cores:</td>\n",
              "<td>2</td></tr>\n",
              "<tr><td>H2O_cluster_status:</td>\n",
              "<td>locked, healthy</td></tr>\n",
              "<tr><td>H2O_connection_url:</td>\n",
              "<td>http://localhost:54321</td></tr>\n",
              "<tr><td>H2O_connection_proxy:</td>\n",
              "<td>{\"http\": null, \"https\": null}</td></tr>\n",
              "<tr><td>H2O_internal_security:</td>\n",
              "<td>False</td></tr>\n",
              "<tr><td>H2O_API_Extensions:</td>\n",
              "<td>Amazon S3, XGBoost, Algos, Infogram, AutoML, Core V3, TargetEncoder, Core V4</td></tr>\n",
              "<tr><td>Python_version:</td>\n",
              "<td>3.7.12 final</td></tr></table></div>"
            ],
            "text/plain": [
              "--------------------------  ----------------------------------------------------------------------------\n",
              "H2O_cluster_uptime:         27 mins 59 secs\n",
              "H2O_cluster_timezone:       Etc/UTC\n",
              "H2O_data_parsing_timezone:  UTC\n",
              "H2O_cluster_version:        3.36.0.2\n",
              "H2O_cluster_version_age:    9 days\n",
              "H2O_cluster_name:           H2O_from_python_unknownUser_ev5e9h\n",
              "H2O_cluster_total_nodes:    1\n",
              "H2O_cluster_free_memory:    3.058 Gb\n",
              "H2O_cluster_total_cores:    2\n",
              "H2O_cluster_allowed_cores:  2\n",
              "H2O_cluster_status:         locked, healthy\n",
              "H2O_connection_url:         http://localhost:54321\n",
              "H2O_connection_proxy:       {\"http\": null, \"https\": null}\n",
              "H2O_internal_security:      False\n",
              "H2O_API_Extensions:         Amazon S3, XGBoost, Algos, Infogram, AutoML, Core V3, TargetEncoder, Core V4\n",
              "Python_version:             3.7.12 final\n",
              "--------------------------  ----------------------------------------------------------------------------"
            ]
          },
          "metadata": {}
        }
      ]
    },
    {
      "cell_type": "code",
      "source": [
        "url = \"https://raw.githubusercontent.com/SathwikHegde/neu-mis-info6105-spring-2022_Assignment2_SathwikHegde/main/Employee.csv\"\n",
        "df = h2o.import_file(path = url)"
      ],
      "metadata": {
        "colab": {
          "base_uri": "https://localhost:8080/"
        },
        "id": "QntoFCxUPV3I",
        "outputId": "b0adc29e-325e-47e7-cff5-e3e4831c1199"
      },
      "execution_count": null,
      "outputs": [
        {
          "output_type": "stream",
          "name": "stdout",
          "text": [
            "Parse progress: |████████████████████████████████████████████████████████████████| (done) 100%\n"
          ]
        }
      ]
    },
    {
      "cell_type": "code",
      "source": [
        "df.head()"
      ],
      "metadata": {
        "colab": {
          "base_uri": "https://localhost:8080/",
          "height": 249
        },
        "id": "gawUupE9P8-o",
        "outputId": "8a2ffeb2-6cd4-4144-e7a9-66b72c7f65b5"
      },
      "execution_count": null,
      "outputs": [
        {
          "output_type": "display_data",
          "data": {
            "text/html": [
              "<table>\n",
              "<thead>\n",
              "<tr><th>Education  </th><th style=\"text-align: right;\">  JoiningYear</th><th>City     </th><th style=\"text-align: right;\">  PaymentTier</th><th style=\"text-align: right;\">  Age</th><th>Gender  </th><th>EverBenched  </th><th style=\"text-align: right;\">  ExperienceInCurrentDomain</th><th style=\"text-align: right;\">  LeaveOrNot</th></tr>\n",
              "</thead>\n",
              "<tbody>\n",
              "<tr><td>Bachelors  </td><td style=\"text-align: right;\">         2017</td><td>Bangalore</td><td style=\"text-align: right;\">            3</td><td style=\"text-align: right;\">   34</td><td>Male    </td><td>No           </td><td style=\"text-align: right;\">                          0</td><td style=\"text-align: right;\">           0</td></tr>\n",
              "<tr><td>Bachelors  </td><td style=\"text-align: right;\">         2013</td><td>Pune     </td><td style=\"text-align: right;\">            1</td><td style=\"text-align: right;\">   28</td><td>Female  </td><td>No           </td><td style=\"text-align: right;\">                          3</td><td style=\"text-align: right;\">           1</td></tr>\n",
              "<tr><td>Bachelors  </td><td style=\"text-align: right;\">         2014</td><td>New Delhi</td><td style=\"text-align: right;\">            3</td><td style=\"text-align: right;\">   38</td><td>Female  </td><td>No           </td><td style=\"text-align: right;\">                          2</td><td style=\"text-align: right;\">           0</td></tr>\n",
              "<tr><td>Masters    </td><td style=\"text-align: right;\">         2016</td><td>Bangalore</td><td style=\"text-align: right;\">            3</td><td style=\"text-align: right;\">   27</td><td>Male    </td><td>No           </td><td style=\"text-align: right;\">                          5</td><td style=\"text-align: right;\">           1</td></tr>\n",
              "<tr><td>Masters    </td><td style=\"text-align: right;\">         2017</td><td>Pune     </td><td style=\"text-align: right;\">            3</td><td style=\"text-align: right;\">   24</td><td>Male    </td><td>Yes          </td><td style=\"text-align: right;\">                          2</td><td style=\"text-align: right;\">           1</td></tr>\n",
              "<tr><td>Bachelors  </td><td style=\"text-align: right;\">         2016</td><td>Bangalore</td><td style=\"text-align: right;\">            3</td><td style=\"text-align: right;\">   22</td><td>Male    </td><td>No           </td><td style=\"text-align: right;\">                          0</td><td style=\"text-align: right;\">           0</td></tr>\n",
              "<tr><td>Bachelors  </td><td style=\"text-align: right;\">         2015</td><td>New Delhi</td><td style=\"text-align: right;\">            3</td><td style=\"text-align: right;\">   38</td><td>Male    </td><td>No           </td><td style=\"text-align: right;\">                          0</td><td style=\"text-align: right;\">           0</td></tr>\n",
              "<tr><td>Bachelors  </td><td style=\"text-align: right;\">         2016</td><td>Bangalore</td><td style=\"text-align: right;\">            3</td><td style=\"text-align: right;\">   34</td><td>Female  </td><td>No           </td><td style=\"text-align: right;\">                          2</td><td style=\"text-align: right;\">           1</td></tr>\n",
              "<tr><td>Bachelors  </td><td style=\"text-align: right;\">         2016</td><td>Pune     </td><td style=\"text-align: right;\">            3</td><td style=\"text-align: right;\">   23</td><td>Male    </td><td>No           </td><td style=\"text-align: right;\">                          1</td><td style=\"text-align: right;\">           0</td></tr>\n",
              "<tr><td>Masters    </td><td style=\"text-align: right;\">         2017</td><td>New Delhi</td><td style=\"text-align: right;\">            2</td><td style=\"text-align: right;\">   37</td><td>Male    </td><td>No           </td><td style=\"text-align: right;\">                          2</td><td style=\"text-align: right;\">           0</td></tr>\n",
              "</tbody>\n",
              "</table>"
            ]
          },
          "metadata": {}
        },
        {
          "output_type": "execute_result",
          "data": {
            "text/plain": [
              ""
            ]
          },
          "metadata": {},
          "execution_count": 59
        }
      ]
    },
    {
      "cell_type": "code",
      "source": [
        "df.types"
      ],
      "metadata": {
        "colab": {
          "base_uri": "https://localhost:8080/"
        },
        "id": "TmQHpL9EP_OO",
        "outputId": "1cdc70c9-ae4a-4081-b997-814583874578"
      },
      "execution_count": null,
      "outputs": [
        {
          "output_type": "execute_result",
          "data": {
            "text/plain": [
              "{'Age': 'int',\n",
              " 'City': 'enum',\n",
              " 'Education': 'enum',\n",
              " 'EverBenched': 'enum',\n",
              " 'ExperienceInCurrentDomain': 'int',\n",
              " 'Gender': 'enum',\n",
              " 'JoiningYear': 'int',\n",
              " 'LeaveOrNot': 'int',\n",
              " 'PaymentTier': 'int'}"
            ]
          },
          "metadata": {},
          "execution_count": 76
        }
      ]
    },
    {
      "cell_type": "code",
      "source": [
        "df.describe()"
      ],
      "metadata": {
        "colab": {
          "base_uri": "https://localhost:8080/",
          "height": 465
        },
        "id": "JPRnLv9HQBAR",
        "outputId": "d5194290-53bd-4af1-b7cf-98e5ba2ba8cf"
      },
      "execution_count": null,
      "outputs": [
        {
          "output_type": "stream",
          "name": "stdout",
          "text": [
            "Rows:4653\n",
            "Cols:9\n",
            "\n",
            "\n"
          ]
        },
        {
          "output_type": "display_data",
          "data": {
            "text/html": [
              "<table>\n",
              "<thead>\n",
              "<tr><th>       </th><th>Education  </th><th>JoiningYear       </th><th>City     </th><th>PaymentTier       </th><th>Age               </th><th>Gender  </th><th>EverBenched  </th><th>ExperienceInCurrentDomain  </th><th>LeaveOrNot         </th></tr>\n",
              "</thead>\n",
              "<tbody>\n",
              "<tr><td>type   </td><td>enum       </td><td>int               </td><td>enum     </td><td>int               </td><td>int               </td><td>enum    </td><td>enum         </td><td>int                        </td><td>int                </td></tr>\n",
              "<tr><td>mins   </td><td>           </td><td>2012.0            </td><td>         </td><td>1.0               </td><td>22.0              </td><td>        </td><td>             </td><td>0.0                        </td><td>0.0                </td></tr>\n",
              "<tr><td>mean   </td><td>           </td><td>2015.0629701267999</td><td>         </td><td>2.6982591876208906</td><td>29.393294648613786</td><td>        </td><td>             </td><td>2.905652267354396          </td><td>0.3438641736514077 </td></tr>\n",
              "<tr><td>maxs   </td><td>           </td><td>2018.0            </td><td>         </td><td>3.0               </td><td>41.0              </td><td>        </td><td>             </td><td>7.0                        </td><td>1.0                </td></tr>\n",
              "<tr><td>sigma  </td><td>           </td><td>1.8633768286863306</td><td>         </td><td>0.5614354643364909</td><td>4.826087009126051 </td><td>        </td><td>             </td><td>1.5582403309268564         </td><td>0.47504747514881035</td></tr>\n",
              "<tr><td>zeros  </td><td>           </td><td>0                 </td><td>         </td><td>0                 </td><td>0                 </td><td>        </td><td>             </td><td>355                        </td><td>3053               </td></tr>\n",
              "<tr><td>missing</td><td>0          </td><td>0                 </td><td>0        </td><td>0                 </td><td>0                 </td><td>0       </td><td>0            </td><td>0                          </td><td>0                  </td></tr>\n",
              "<tr><td>0      </td><td>Bachelors  </td><td>2017.0            </td><td>Bangalore</td><td>3.0               </td><td>34.0              </td><td>Male    </td><td>No           </td><td>0.0                        </td><td>0.0                </td></tr>\n",
              "<tr><td>1      </td><td>Bachelors  </td><td>2013.0            </td><td>Pune     </td><td>1.0               </td><td>28.0              </td><td>Female  </td><td>No           </td><td>3.0                        </td><td>1.0                </td></tr>\n",
              "<tr><td>2      </td><td>Bachelors  </td><td>2014.0            </td><td>New Delhi</td><td>3.0               </td><td>38.0              </td><td>Female  </td><td>No           </td><td>2.0                        </td><td>0.0                </td></tr>\n",
              "<tr><td>3      </td><td>Masters    </td><td>2016.0            </td><td>Bangalore</td><td>3.0               </td><td>27.0              </td><td>Male    </td><td>No           </td><td>5.0                        </td><td>1.0                </td></tr>\n",
              "<tr><td>4      </td><td>Masters    </td><td>2017.0            </td><td>Pune     </td><td>3.0               </td><td>24.0              </td><td>Male    </td><td>Yes          </td><td>2.0                        </td><td>1.0                </td></tr>\n",
              "<tr><td>5      </td><td>Bachelors  </td><td>2016.0            </td><td>Bangalore</td><td>3.0               </td><td>22.0              </td><td>Male    </td><td>No           </td><td>0.0                        </td><td>0.0                </td></tr>\n",
              "<tr><td>6      </td><td>Bachelors  </td><td>2015.0            </td><td>New Delhi</td><td>3.0               </td><td>38.0              </td><td>Male    </td><td>No           </td><td>0.0                        </td><td>0.0                </td></tr>\n",
              "<tr><td>7      </td><td>Bachelors  </td><td>2016.0            </td><td>Bangalore</td><td>3.0               </td><td>34.0              </td><td>Female  </td><td>No           </td><td>2.0                        </td><td>1.0                </td></tr>\n",
              "<tr><td>8      </td><td>Bachelors  </td><td>2016.0            </td><td>Pune     </td><td>3.0               </td><td>23.0              </td><td>Male    </td><td>No           </td><td>1.0                        </td><td>0.0                </td></tr>\n",
              "<tr><td>9      </td><td>Masters    </td><td>2017.0            </td><td>New Delhi</td><td>2.0               </td><td>37.0              </td><td>Male    </td><td>No           </td><td>2.0                        </td><td>0.0                </td></tr>\n",
              "</tbody>\n",
              "</table>"
            ]
          },
          "metadata": {}
        }
      ]
    },
    {
      "cell_type": "code",
      "source": [
        "df.shape\n"
      ],
      "metadata": {
        "colab": {
          "base_uri": "https://localhost:8080/"
        },
        "id": "yqgteIRxQdzK",
        "outputId": "0c523528-487e-4e0b-b166-08ab2e9f0ca6"
      },
      "execution_count": null,
      "outputs": [
        {
          "output_type": "execute_result",
          "data": {
            "text/plain": [
              "(4653, 9)"
            ]
          },
          "metadata": {},
          "execution_count": 62
        }
      ]
    },
    {
      "cell_type": "code",
      "source": [
        "# Create a 80/20 train/test split\n",
        "pct_rows=0.80\n",
        "df_train, df_test = df.split_frame([pct_rows])"
      ],
      "metadata": {
        "id": "al4Yp1zJQf5f"
      },
      "execution_count": null,
      "outputs": []
    },
    {
      "cell_type": "code",
      "source": [
        "print(df_train.shape)\n",
        "print(df_test.shape)"
      ],
      "metadata": {
        "colab": {
          "base_uri": "https://localhost:8080/"
        },
        "id": "_jM3j--TQh2-",
        "outputId": "dfc50827-16c9-4a1c-a359-9b9a0e344011"
      },
      "execution_count": null,
      "outputs": [
        {
          "output_type": "stream",
          "name": "stdout",
          "text": [
            "(3722, 9)\n",
            "(931, 9)\n"
          ]
        }
      ]
    },
    {
      "cell_type": "code",
      "source": [
        "df_train.head()"
      ],
      "metadata": {
        "colab": {
          "base_uri": "https://localhost:8080/",
          "height": 249
        },
        "id": "tk6LWs0lQnuy",
        "outputId": "77d52e49-335c-43b0-ebee-69540d7ef09c"
      },
      "execution_count": null,
      "outputs": [
        {
          "output_type": "display_data",
          "data": {
            "text/html": [
              "<table>\n",
              "<thead>\n",
              "<tr><th>Education  </th><th style=\"text-align: right;\">  JoiningYear</th><th>City     </th><th style=\"text-align: right;\">  PaymentTier</th><th style=\"text-align: right;\">  Age</th><th>Gender  </th><th>EverBenched  </th><th style=\"text-align: right;\">  ExperienceInCurrentDomain</th><th style=\"text-align: right;\">  LeaveOrNot</th></tr>\n",
              "</thead>\n",
              "<tbody>\n",
              "<tr><td>Bachelors  </td><td style=\"text-align: right;\">         2013</td><td>Pune     </td><td style=\"text-align: right;\">            1</td><td style=\"text-align: right;\">   28</td><td>Female  </td><td>No           </td><td style=\"text-align: right;\">                          3</td><td style=\"text-align: right;\">           1</td></tr>\n",
              "<tr><td>Bachelors  </td><td style=\"text-align: right;\">         2014</td><td>New Delhi</td><td style=\"text-align: right;\">            3</td><td style=\"text-align: right;\">   38</td><td>Female  </td><td>No           </td><td style=\"text-align: right;\">                          2</td><td style=\"text-align: right;\">           0</td></tr>\n",
              "<tr><td>Bachelors  </td><td style=\"text-align: right;\">         2016</td><td>Bangalore</td><td style=\"text-align: right;\">            3</td><td style=\"text-align: right;\">   22</td><td>Male    </td><td>No           </td><td style=\"text-align: right;\">                          0</td><td style=\"text-align: right;\">           0</td></tr>\n",
              "<tr><td>Bachelors  </td><td style=\"text-align: right;\">         2015</td><td>New Delhi</td><td style=\"text-align: right;\">            3</td><td style=\"text-align: right;\">   38</td><td>Male    </td><td>No           </td><td style=\"text-align: right;\">                          0</td><td style=\"text-align: right;\">           0</td></tr>\n",
              "<tr><td>Bachelors  </td><td style=\"text-align: right;\">         2016</td><td>Bangalore</td><td style=\"text-align: right;\">            3</td><td style=\"text-align: right;\">   34</td><td>Female  </td><td>No           </td><td style=\"text-align: right;\">                          2</td><td style=\"text-align: right;\">           1</td></tr>\n",
              "<tr><td>Bachelors  </td><td style=\"text-align: right;\">         2016</td><td>Pune     </td><td style=\"text-align: right;\">            3</td><td style=\"text-align: right;\">   23</td><td>Male    </td><td>No           </td><td style=\"text-align: right;\">                          1</td><td style=\"text-align: right;\">           0</td></tr>\n",
              "<tr><td>Masters    </td><td style=\"text-align: right;\">         2017</td><td>New Delhi</td><td style=\"text-align: right;\">            2</td><td style=\"text-align: right;\">   37</td><td>Male    </td><td>No           </td><td style=\"text-align: right;\">                          2</td><td style=\"text-align: right;\">           0</td></tr>\n",
              "<tr><td>Bachelors  </td><td style=\"text-align: right;\">         2016</td><td>Pune     </td><td style=\"text-align: right;\">            3</td><td style=\"text-align: right;\">   34</td><td>Male    </td><td>No           </td><td style=\"text-align: right;\">                          3</td><td style=\"text-align: right;\">           0</td></tr>\n",
              "<tr><td>Bachelors  </td><td style=\"text-align: right;\">         2012</td><td>Bangalore</td><td style=\"text-align: right;\">            3</td><td style=\"text-align: right;\">   37</td><td>Male    </td><td>No           </td><td style=\"text-align: right;\">                          4</td><td style=\"text-align: right;\">           0</td></tr>\n",
              "<tr><td>Bachelors  </td><td style=\"text-align: right;\">         2014</td><td>Bangalore</td><td style=\"text-align: right;\">            3</td><td style=\"text-align: right;\">   34</td><td>Female  </td><td>No           </td><td style=\"text-align: right;\">                          2</td><td style=\"text-align: right;\">           0</td></tr>\n",
              "</tbody>\n",
              "</table>"
            ]
          },
          "metadata": {}
        },
        {
          "output_type": "execute_result",
          "data": {
            "text/plain": [
              ""
            ]
          },
          "metadata": {},
          "execution_count": 65
        }
      ]
    },
    {
      "cell_type": "code",
      "source": [
        "# Set the features and target\n",
        "X=df.columns\n",
        "print(X)"
      ],
      "metadata": {
        "colab": {
          "base_uri": "https://localhost:8080/"
        },
        "id": "JikjtjfjQptu",
        "outputId": "fb5df008-e965-4f78-a230-03ecbca80117"
      },
      "execution_count": null,
      "outputs": [
        {
          "output_type": "stream",
          "name": "stdout",
          "text": [
            "['Education', 'JoiningYear', 'City', 'PaymentTier', 'Age', 'Gender', 'EverBenched', 'ExperienceInCurrentDomain', 'LeaveOrNot']\n"
          ]
        }
      ]
    },
    {
      "cell_type": "code",
      "source": [
        "# Set target and predictor variables\n",
        "# y ='churn'\n",
        "y_numeric ='LeaveOrNot'\n",
        "# X.remove(y) \n",
        "X.remove(y_numeric) \n",
        "print(X)"
      ],
      "metadata": {
        "colab": {
          "base_uri": "https://localhost:8080/"
        },
        "id": "Bv8QAX-5FPIQ",
        "outputId": "060077b3-913f-4842-d6b1-bfa42a6aca4f"
      },
      "execution_count": null,
      "outputs": [
        {
          "output_type": "stream",
          "name": "stdout",
          "text": [
            "['Education', 'JoiningYear', 'City', 'PaymentTier', 'Age', 'Gender', 'EverBenched', 'ExperienceInCurrentDomain']\n"
          ]
        }
      ]
    },
    {
      "cell_type": "code",
      "source": [
        "# Set up AutoML\n",
        "aml = H2OAutoML(max_runtime_secs=run_time, seed=1)"
      ],
      "metadata": {
        "id": "1b0x9FZach3_"
      },
      "execution_count": null,
      "outputs": []
    },
    {
      "cell_type": "code",
      "source": [
        "aml.train(x=X,y=y_numeric,training_frame=df_train) "
      ],
      "metadata": {
        "colab": {
          "base_uri": "https://localhost:8080/"
        },
        "id": "NGtnDTsy2n68",
        "outputId": "ad2840f9-2a01-4197-93a7-3bd5f7c40df6"
      },
      "execution_count": null,
      "outputs": [
        {
          "output_type": "stream",
          "name": "stdout",
          "text": [
            "AutoML progress: |\n",
            "01:57:16.228: _response param, Response is numeric, so the regression model will be trained. However, the cardinality is equaled to two, so if you want to train a classification model, convert the response column to categorical before training.\n",
            "\n",
            "█\n",
            "01:57:19.236: _response param, Response is numeric, so the regression model will be trained. However, the cardinality is equaled to two, so if you want to train a classification model, convert the response column to categorical before training.\n",
            "\n",
            "█\n",
            "01:57:20.239: _response param, Response is numeric, so the regression model will be trained. However, the cardinality is equaled to two, so if you want to train a classification model, convert the response column to categorical before training.\n",
            "\n",
            "██\n",
            "01:57:24.242: _response param, Response is numeric, so the regression model will be trained. However, the cardinality is equaled to two, so if you want to train a classification model, convert the response column to categorical before training.\n",
            "01:57:25.244: _response param, Response is numeric, so the regression model will be trained. However, the cardinality is equaled to two, so if you want to train a classification model, convert the response column to categorical before training.\n",
            "\n",
            "█\n",
            "01:57:28.253: _response param, Response is numeric, so the regression model will be trained. However, the cardinality is equaled to two, so if you want to train a classification model, convert the response column to categorical before training.\n",
            "\n",
            "█\n",
            "01:57:31.255: _response param, Response is numeric, so the regression model will be trained. However, the cardinality is equaled to two, so if you want to train a classification model, convert the response column to categorical before training.\n",
            "\n",
            "█\n",
            "01:57:33.258: _response param, Response is numeric, so the regression model will be trained. However, the cardinality is equaled to two, so if you want to train a classification model, convert the response column to categorical before training.\n",
            "\n",
            "\n",
            "01:57:35.260: _response param, Response is numeric, so the regression model will be trained. However, the cardinality is equaled to two, so if you want to train a classification model, convert the response column to categorical before training.\n",
            "\n",
            "█\n",
            "01:57:37.262: _response param, Response is numeric, so the regression model will be trained. However, the cardinality is equaled to two, so if you want to train a classification model, convert the response column to categorical before training.\n",
            "\n",
            "█\n",
            "01:57:38.265: _response param, Response is numeric, so the regression model will be trained. However, the cardinality is equaled to two, so if you want to train a classification model, convert the response column to categorical before training.\n",
            "\n",
            "\n",
            "01:57:39.268: _response param, Response is numeric, so the regression model will be trained. However, the cardinality is equaled to two, so if you want to train a classification model, convert the response column to categorical before training.\n",
            "\n",
            "█\n",
            "01:57:40.270: _response param, Response is numeric, so the regression model will be trained. However, the cardinality is equaled to two, so if you want to train a classification model, convert the response column to categorical before training.\n",
            "\n",
            "██\n",
            "01:57:43.273: _response param, Response is numeric, so the regression model will be trained. However, the cardinality is equaled to two, so if you want to train a classification model, convert the response column to categorical before training.\n",
            "01:57:45.276: _response param, Response is numeric, so the regression model will be trained. However, the cardinality is equaled to two, so if you want to train a classification model, convert the response column to categorical before training.\n",
            "\n",
            "██\n",
            "01:57:47.279: _response param, Response is numeric, so the regression model will be trained. However, the cardinality is equaled to two, so if you want to train a classification model, convert the response column to categorical before training.\n",
            "01:57:48.282: _response param, Response is numeric, so the regression model will be trained. However, the cardinality is equaled to two, so if you want to train a classification model, convert the response column to categorical before training.\n",
            "\n",
            "███████████████████████████████████████████\n",
            "02:00:37.679: _response param, Response is numeric, so the regression model will be trained. However, the cardinality is equaled to two, so if you want to train a classification model, convert the response column to categorical before training.\n",
            "\n",
            "\n",
            "02:00:38.687: _response param, Response is numeric, so the regression model will be trained. However, the cardinality is equaled to two, so if you want to train a classification model, convert the response column to categorical before training.\n",
            "\n",
            "██████| (done) 100%\n",
            "Model Details\n",
            "=============\n",
            "H2OStackedEnsembleEstimator :  Stacked Ensemble\n",
            "Model Key:  StackedEnsemble_BestOfFamily_4_AutoML_2_20220204_15716\n",
            "\n",
            "No model summary for this model\n",
            "\n",
            "ModelMetricsRegressionGLM: stackedensemble\n",
            "** Reported on train data. **\n",
            "\n",
            "MSE: 0.09260634501409186\n",
            "RMSE: 0.3043129064204998\n",
            "MAE: 0.20672335312615012\n",
            "RMSLE: 0.21277562377804982\n",
            "R^2: 0.592548434960872\n",
            "Mean Residual Deviance: 0.09260634501409186\n",
            "Null degrees of freedom: 3721\n",
            "Residual degrees of freedom: 3717\n",
            "Null deviance: 845.9430413756021\n",
            "Residual deviance: 344.6808161424499\n",
            "AIC: 1718.4605032319066\n",
            "\n",
            "ModelMetricsRegressionGLM: stackedensemble\n",
            "** Reported on cross-validation data. **\n",
            "\n",
            "MSE: 0.11484752831371438\n",
            "RMSE: 0.3388916173553344\n",
            "MAE: 0.23273387667984557\n",
            "RMSLE: 0.2383954782128354\n",
            "R^2: 0.49469115593345403\n",
            "Mean Residual Deviance: 0.11484752831371438\n",
            "Null degrees of freedom: 3721\n",
            "Residual degrees of freedom: 3717\n",
            "Null deviance: 846.9833545581143\n",
            "Residual deviance: 427.4625003836449\n",
            "AIC: 2519.612621039288\n"
          ]
        },
        {
          "output_type": "execute_result",
          "data": {
            "text/plain": [
              ""
            ]
          },
          "metadata": {},
          "execution_count": 82
        }
      ]
    },
    {
      "cell_type": "code",
      "source": [
        "print(aml.leaderboard)"
      ],
      "metadata": {
        "colab": {
          "base_uri": "https://localhost:8080/",
          "height": 266
        },
        "id": "weIzb3kLcmR8",
        "outputId": "eef74238-8940-4476-e685-e3d31cc70a55"
      },
      "execution_count": null,
      "outputs": [
        {
          "output_type": "display_data",
          "data": {
            "text/html": [
              "<table>\n",
              "<thead>\n",
              "<tr><th>model_id                                              </th><th style=\"text-align: right;\">  mean_residual_deviance</th><th style=\"text-align: right;\">    rmse</th><th style=\"text-align: right;\">     mse</th><th style=\"text-align: right;\">     mae</th><th style=\"text-align: right;\">   rmsle</th></tr>\n",
              "</thead>\n",
              "<tbody>\n",
              "<tr><td>StackedEnsemble_BestOfFamily_4_AutoML_2_20220204_15716</td><td style=\"text-align: right;\">                0.114848</td><td style=\"text-align: right;\">0.338892</td><td style=\"text-align: right;\">0.114848</td><td style=\"text-align: right;\">0.232734</td><td style=\"text-align: right;\">0.238395</td></tr>\n",
              "<tr><td>StackedEnsemble_AllModels_3_AutoML_2_20220204_15716   </td><td style=\"text-align: right;\">                0.114957</td><td style=\"text-align: right;\">0.339052</td><td style=\"text-align: right;\">0.114957</td><td style=\"text-align: right;\">0.233298</td><td style=\"text-align: right;\">0.238368</td></tr>\n",
              "<tr><td>GBM_grid_1_AutoML_2_20220204_15716_model_12           </td><td style=\"text-align: right;\">                0.115528</td><td style=\"text-align: right;\">0.339894</td><td style=\"text-align: right;\">0.115528</td><td style=\"text-align: right;\">0.233008</td><td style=\"text-align: right;\">0.238995</td></tr>\n",
              "<tr><td>StackedEnsemble_AllModels_2_AutoML_2_20220204_15716   </td><td style=\"text-align: right;\">                0.115623</td><td style=\"text-align: right;\">0.340034</td><td style=\"text-align: right;\">0.115623</td><td style=\"text-align: right;\">0.236845</td><td style=\"text-align: right;\">0.239255</td></tr>\n",
              "<tr><td>StackedEnsemble_AllModels_1_AutoML_2_20220204_15716   </td><td style=\"text-align: right;\">                0.115873</td><td style=\"text-align: right;\">0.340402</td><td style=\"text-align: right;\">0.115873</td><td style=\"text-align: right;\">0.237556</td><td style=\"text-align: right;\">0.239835</td></tr>\n",
              "<tr><td>GBM_grid_1_AutoML_2_20220204_15716_model_42           </td><td style=\"text-align: right;\">                0.116021</td><td style=\"text-align: right;\">0.340619</td><td style=\"text-align: right;\">0.116021</td><td style=\"text-align: right;\">0.242137</td><td style=\"text-align: right;\">0.23923 </td></tr>\n",
              "<tr><td>GBM_grid_1_AutoML_2_20220204_15716_model_44           </td><td style=\"text-align: right;\">                0.116118</td><td style=\"text-align: right;\">0.340761</td><td style=\"text-align: right;\">0.116118</td><td style=\"text-align: right;\">0.233825</td><td style=\"text-align: right;\">0.240217</td></tr>\n",
              "<tr><td>StackedEnsemble_BestOfFamily_3_AutoML_2_20220204_15716</td><td style=\"text-align: right;\">                0.116166</td><td style=\"text-align: right;\">0.340832</td><td style=\"text-align: right;\">0.116166</td><td style=\"text-align: right;\">0.237534</td><td style=\"text-align: right;\">0.23971 </td></tr>\n",
              "<tr><td>GBM_grid_1_AutoML_2_20220204_15716_model_26           </td><td style=\"text-align: right;\">                0.116283</td><td style=\"text-align: right;\">0.341003</td><td style=\"text-align: right;\">0.116283</td><td style=\"text-align: right;\">0.235141</td><td style=\"text-align: right;\">0.240916</td></tr>\n",
              "<tr><td>StackedEnsemble_BestOfFamily_2_AutoML_2_20220204_15716</td><td style=\"text-align: right;\">                0.116338</td><td style=\"text-align: right;\">0.341083</td><td style=\"text-align: right;\">0.116338</td><td style=\"text-align: right;\">0.237156</td><td style=\"text-align: right;\">0.240465</td></tr>\n",
              "</tbody>\n",
              "</table>"
            ]
          },
          "metadata": {}
        },
        {
          "output_type": "stream",
          "name": "stdout",
          "text": [
            "\n"
          ]
        }
      ]
    },
    {
      "cell_type": "code",
      "source": [
        "model_index=0\n",
        "glm_index=0\n",
        "glm_model=''\n",
        "aml_leaderboard_df=aml.leaderboard.as_data_frame()\n",
        "models_dict={}\n",
        "for m in aml_leaderboard_df['model_id']:\n",
        "  models_dict[m]=model_index\n",
        "  if 'StackedEnsemble' not in m:\n",
        "    break \n",
        "  model_index=model_index+1  \n",
        "\n",
        "for m in aml_leaderboard_df['model_id']:\n",
        "  if 'GLM' in m:\n",
        "    models_dict[m]=glm_index\n",
        "    break  \n",
        "  glm_index=glm_index+1     \n",
        "models_dict"
      ],
      "metadata": {
        "colab": {
          "base_uri": "https://localhost:8080/"
        },
        "id": "Csen5evwfzpI",
        "outputId": "6657f995-cab9-48da-8f9e-85e8725ff284"
      },
      "execution_count": null,
      "outputs": [
        {
          "output_type": "execute_result",
          "data": {
            "text/plain": [
              "{'GBM_grid_1_AutoML_2_20220204_15716_model_12': 2,\n",
              " 'GLM_1_AutoML_2_20220204_15716': 93,\n",
              " 'StackedEnsemble_AllModels_3_AutoML_2_20220204_15716': 1,\n",
              " 'StackedEnsemble_BestOfFamily_4_AutoML_2_20220204_15716': 0}"
            ]
          },
          "metadata": {},
          "execution_count": 84
        }
      ]
    },
    {
      "cell_type": "code",
      "source": [
        "print(model_index)\n",
        "best_model = h2o.get_model(aml.leaderboard[model_index,'model_id'])"
      ],
      "metadata": {
        "colab": {
          "base_uri": "https://localhost:8080/"
        },
        "id": "EWHBDkzjf2pw",
        "outputId": "42634082-ec1f-44bf-adc8-362e7663693e"
      },
      "execution_count": null,
      "outputs": [
        {
          "output_type": "stream",
          "name": "stdout",
          "text": [
            "2\n"
          ]
        }
      ]
    },
    {
      "cell_type": "code",
      "source": [
        "best_model.algo"
      ],
      "metadata": {
        "colab": {
          "base_uri": "https://localhost:8080/",
          "height": 35
        },
        "id": "IXdJIfOff58N",
        "outputId": "019683f0-9ca6-4e46-d354-05a17192332e"
      },
      "execution_count": null,
      "outputs": [
        {
          "output_type": "execute_result",
          "data": {
            "application/vnd.google.colaboratory.intrinsic+json": {
              "type": "string"
            },
            "text/plain": [
              "'gbm'"
            ]
          },
          "metadata": {},
          "execution_count": 86
        }
      ]
    },
    {
      "cell_type": "code",
      "source": [
        "import matplotlib.pyplot as plt\n",
        "%matplotlib inline\n",
        "\n",
        "import warnings\n",
        "import matplotlib.cbook\n",
        "warnings.filterwarnings(\"ignore\", category = matplotlib.cbook.mplDeprecation)"
      ],
      "metadata": {
        "id": "avBOZgL5f7o9"
      },
      "execution_count": null,
      "outputs": []
    },
    {
      "cell_type": "code",
      "source": [
        "if best_model.algo in ['gbm','drf','xrt','xgboost']:\n",
        "  best_model.varimp_plot()"
      ],
      "metadata": {
        "colab": {
          "base_uri": "https://localhost:8080/",
          "height": 630
        },
        "id": "OgAHVuCAf9t8",
        "outputId": "8d4cd21f-4a16-4de2-ca6a-3a9bda0fb40b"
      },
      "execution_count": null,
      "outputs": [
        {
          "output_type": "display_data",
          "data": {
            "image/png": "[encoded data removed]",
            "text/plain": [
              "<Figure size 1008x720 with 1 Axes>"
            ]
          },
          "metadata": {
            "needs_background": "light"
          }
        },
        {
          "output_type": "display_data",
          "data": {
            "text/plain": [
              "<Figure size 432x288 with 0 Axes>"
            ]
          },
          "metadata": {}
        }
      ]
    },
    {
      "cell_type": "code",
      "source": [
        "if glm_index is not 0:\n",
        "  print(glm_index)\n",
        "  glm_model=h2o.get_model(aml.leaderboard[glm_index,'model_id'])\n",
        "  print(glm_model.algo) \n",
        "  glm_model.std_coef_plot()"
      ],
      "metadata": {
        "colab": {
          "base_uri": "https://localhost:8080/",
          "height": 646
        },
        "id": "qHWqYXxgf__H",
        "outputId": "3c716b6b-4447-400e-a4b2-3b03f88a58c4"
      },
      "execution_count": null,
      "outputs": [
        {
          "output_type": "stream",
          "name": "stdout",
          "text": [
            "93\n",
            "glm\n"
          ]
        },
        {
          "output_type": "display_data",
          "data": {
            "image/png": "[encoded data removed]",
            "text/plain": [
              "<Figure size 1008x720 with 1 Axes>"
            ]
          },
          "metadata": {
            "needs_background": "light"
          }
        }
      ]
    },
    {
      "cell_type": "code",
      "source": [
        "print(best_model.rmse(train = True))"
      ],
      "metadata": {
        "colab": {
          "base_uri": "https://localhost:8080/"
        },
        "id": "B3xdhF4cgCSw",
        "outputId": "179ccba9-7e65-4959-cf1d-15c2a06a6b7e"
      },
      "execution_count": null,
      "outputs": [
        {
          "output_type": "stream",
          "name": "stdout",
          "text": [
            "0.30264030218133786\n"
          ]
        }
      ]
    },
    {
      "cell_type": "code",
      "source": [
        "def model_performance_stats(perf):\n",
        "    d={}\n",
        "    try:    \n",
        "      d['mse']=perf.mse()\n",
        "    except:\n",
        "      pass      \n",
        "    try:    \n",
        "      d['rmse']=perf.rmse() \n",
        "    except:\n",
        "      pass      \n",
        "    try:    \n",
        "      d['null_degrees_of_freedom']=perf.null_degrees_of_freedom()\n",
        "    except:\n",
        "      pass      \n",
        "    try:    \n",
        "      d['residual_degrees_of_freedom']=perf.residual_degrees_of_freedom()\n",
        "    except:\n",
        "      pass      \n",
        "    try:    \n",
        "      d['residual_deviance']=perf.residual_deviance() \n",
        "    except:\n",
        "      pass      \n",
        "    try:    \n",
        "      d['null_deviance']=perf.null_deviance() \n",
        "    except:\n",
        "      pass      \n",
        "    try:    \n",
        "      d['aic']=perf.aic() \n",
        "    except:\n",
        "      pass      \n",
        "    try:\n",
        "      d['logloss']=perf.logloss() \n",
        "    except:\n",
        "      pass    \n",
        "    try:\n",
        "      d['auc']=perf.auc()\n",
        "    except:\n",
        "      pass  \n",
        "    try:\n",
        "      d['gini']=perf.gini()\n",
        "    except:\n",
        "      pass    \n",
        "    return d"
      ],
      "metadata": {
        "id": "3WQW8yrmgFCJ"
      },
      "execution_count": null,
      "outputs": []
    },
    {
      "cell_type": "code",
      "source": [
        "mod_perf=best_model.model_performance(df_test)\n",
        "stats_test={}\n",
        "stats_test=model_performance_stats(mod_perf)\n",
        "stats_test"
      ],
      "metadata": {
        "colab": {
          "base_uri": "https://localhost:8080/"
        },
        "id": "N0pDHbXigIU2",
        "outputId": "636eff0e-053a-4290-d313-8103ada553b9"
      },
      "execution_count": null,
      "outputs": [
        {
          "output_type": "execute_result",
          "data": {
            "text/plain": [
              "{'mse': 0.1073305878882818,\n",
              " 'null_degrees_of_freedom': None,\n",
              " 'null_deviance': None,\n",
              " 'residual_degrees_of_freedom': None,\n",
              " 'residual_deviance': None,\n",
              " 'rmse': 0.32761347330090346}"
            ]
          },
          "metadata": {},
          "execution_count": 92
        }
      ]
    },
    {
      "cell_type": "code",
      "source": [
        "predictions = best_model.predict(df_test)"
      ],
      "metadata": {
        "colab": {
          "base_uri": "https://localhost:8080/"
        },
        "id": "M-cGxKYDgKmY",
        "outputId": "4ad4ff8e-f6bb-4aac-ee69-8a3b7318f432"
      },
      "execution_count": null,
      "outputs": [
        {
          "output_type": "stream",
          "name": "stdout",
          "text": [
            "gbm prediction progress: |███████████████████████████████████████████████████████| (done) 100%\n"
          ]
        }
      ]
    },
    {
      "cell_type": "code",
      "source": [
        "y_pred=h2o.as_list(predictions)\n",
        "y_pred[0:5]"
      ],
      "metadata": {
        "colab": {
          "base_uri": "https://localhost:8080/",
          "height": 206
        },
        "id": "-Pou0TS6gNBd",
        "outputId": "ded9b215-c117-404d-ca72-6a5a0799c208"
      },
      "execution_count": null,
      "outputs": [
        {
          "output_type": "execute_result",
          "data": {
            "text/html": [
              "\n",
              "  <div id=\"df-d59390c7-ea7b-4753-afa4-cd5ae90f6acc\">\n",
              "    <div class=\"colab-df-container\">\n",
              "      <div>\n",
              "<style scoped>\n",
              "    .dataframe tbody tr th:only-of-type {\n",
              "        vertical-align: middle;\n",
              "    }\n",
              "\n",
              "    .dataframe tbody tr th {\n",
              "        vertical-align: top;\n",
              "    }\n",
              "\n",
              "    .dataframe thead th {\n",
              "        text-align: right;\n",
              "    }\n",
              "</style>\n",
              "<table border=\"1\" class=\"dataframe\">\n",
              "  <thead>\n",
              "    <tr style=\"text-align: right;\">\n",
              "      <th></th>\n",
              "      <th>predict</th>\n",
              "    </tr>\n",
              "  </thead>\n",
              "  <tbody>\n",
              "    <tr>\n",
              "      <th>0</th>\n",
              "      <td>0.210715</td>\n",
              "    </tr>\n",
              "    <tr>\n",
              "      <th>1</th>\n",
              "      <td>0.781190</td>\n",
              "    </tr>\n",
              "    <tr>\n",
              "      <th>2</th>\n",
              "      <td>0.458752</td>\n",
              "    </tr>\n",
              "    <tr>\n",
              "      <th>3</th>\n",
              "      <td>0.947231</td>\n",
              "    </tr>\n",
              "    <tr>\n",
              "      <th>4</th>\n",
              "      <td>0.983960</td>\n",
              "    </tr>\n",
              "  </tbody>\n",
              "</table>\n",
              "</div>\n",
              "      <button class=\"colab-df-convert\" onclick=\"convertToInteractive('df-d59390c7-ea7b-4753-afa4-cd5ae90f6acc')\"\n",
              "              title=\"Convert this dataframe to an interactive table.\"\n",
              "              style=\"display:none;\">\n",
              "        \n",
              "  <svg xmlns=\"http://www.w3.org/2000/svg\" height=\"24px\"viewBox=\"0 0 24 24\"\n",
              "       width=\"24px\">\n",
              "    <path d=\"M0 0h24v24H0V0z\" fill=\"none\"/>\n",
              "    <path d=\"M18.56 5.44l.94 2.06.94-2.06 2.06-.94-2.06-.94-.94-2.06-.94 2.06-2.06.94zm-11 1L8.5 8.5l.94-2.06 2.06-.94-2.06-.94L8.5 2.5l-.94 2.06-2.06.94zm10 10l.94 2.06.94-2.06 2.06-.94-2.06-.94-.94-2.06-.94 2.06-2.06.94z\"/><path d=\"M17.41 7.96l-1.37-1.37c-.4-.4-.92-.59-1.43-.59-.52 0-1.04.2-1.43.59L10.3 9.45l-7.72 7.72c-.78.78-.78 2.05 0 2.83L4 21.41c.39.39.9.59 1.41.59.51 0 1.02-.2 1.41-.59l7.78-7.78 2.81-2.81c.8-.78.8-2.07 0-2.86zM5.41 20L4 18.59l7.72-7.72 1.47 1.35L5.41 20z\"/>\n",
              "  </svg>\n",
              "      </button>\n",
              "      \n",
              "  <style>\n",
              "    .colab-df-container {\n",
              "      display:flex;\n",
              "      flex-wrap:wrap;\n",
              "      gap: 12px;\n",
              "    }\n",
              "\n",
              "    .colab-df-convert {\n",
              "      background-color: #E8F0FE;\n",
              "      border: none;\n",
              "      border-radius: 50%;\n",
              "      cursor: pointer;\n",
              "      display: none;\n",
              "      fill: #1967D2;\n",
              "      height: 32px;\n",
              "      padding: 0 0 0 0;\n",
              "      width: 32px;\n",
              "    }\n",
              "\n",
              "    .colab-df-convert:hover {\n",
              "      background-color: #E2EBFA;\n",
              "      box-shadow: 0px 1px 2px rgba(60, 64, 67, 0.3), 0px 1px 3px 1px rgba(60, 64, 67, 0.15);\n",
              "      fill: #174EA6;\n",
              "    }\n",
              "\n",
              "    [theme=dark] .colab-df-convert {\n",
              "      background-color: #3B4455;\n",
              "      fill: #D2E3FC;\n",
              "    }\n",
              "\n",
              "    [theme=dark] .colab-df-convert:hover {\n",
              "      background-color: #434B5C;\n",
              "      box-shadow: 0px 1px 3px 1px rgba(0, 0, 0, 0.15);\n",
              "      filter: drop-shadow(0px 1px 2px rgba(0, 0, 0, 0.3));\n",
              "      fill: #FFFFFF;\n",
              "    }\n",
              "  </style>\n",
              "\n",
              "      <script>\n",
              "        const buttonEl =\n",
              "          document.querySelector('#df-d59390c7-ea7b-4753-afa4-cd5ae90f6acc button.colab-df-convert');\n",
              "        buttonEl.style.display =\n",
              "          google.colab.kernel.accessAllowed ? 'block' : 'none';\n",
              "\n",
              "        async function convertToInteractive(key) {\n",
              "          const element = document.querySelector('#df-d59390c7-ea7b-4753-afa4-cd5ae90f6acc');\n",
              "          const dataTable =\n",
              "            await google.colab.kernel.invokeFunction('convertToInteractive',\n",
              "                                                     [key], {});\n",
              "          if (!dataTable) return;\n",
              "\n",
              "          const docLinkHtml = 'Like what you see? Visit the ' +\n",
              "            '<a target=\"_blank\" href=https://colab.research.google.com/notebooks/data_table.ipynb>data table notebook</a>'\n",
              "            + ' to learn more about interactive tables.';\n",
              "          element.innerHTML = '';\n",
              "          dataTable['output_type'] = 'display_data';\n",
              "          await google.colab.output.renderOutput(dataTable, element);\n",
              "          const docLink = document.createElement('div');\n",
              "          docLink.innerHTML = docLinkHtml;\n",
              "          element.appendChild(docLink);\n",
              "        }\n",
              "      </script>\n",
              "    </div>\n",
              "  </div>\n",
              "  "
            ],
            "text/plain": [
              "    predict\n",
              "0  0.210715\n",
              "1  0.781190\n",
              "2  0.458752\n",
              "3  0.947231\n",
              "4  0.983960"
            ]
          },
          "metadata": {},
          "execution_count": 94
        }
      ]
    },
    {
      "cell_type": "code",
      "source": [
        "y_test=h2o.as_list(df_test[y_numeric])\n",
        "y_test[0:5]"
      ],
      "metadata": {
        "colab": {
          "base_uri": "https://localhost:8080/",
          "height": 206
        },
        "id": "K7iDAuo7gOtD",
        "outputId": "3ffc374e-6b45-4d3b-a7d5-df0972b28460"
      },
      "execution_count": null,
      "outputs": [
        {
          "output_type": "execute_result",
          "data": {
            "text/html": [
              "\n",
              "  <div id=\"df-c40c828d-ba70-4bd5-a2aa-795b427eda14\">\n",
              "    <div class=\"colab-df-container\">\n",
              "      <div>\n",
              "<style scoped>\n",
              "    .dataframe tbody tr th:only-of-type {\n",
              "        vertical-align: middle;\n",
              "    }\n",
              "\n",
              "    .dataframe tbody tr th {\n",
              "        vertical-align: top;\n",
              "    }\n",
              "\n",
              "    .dataframe thead th {\n",
              "        text-align: right;\n",
              "    }\n",
              "</style>\n",
              "<table border=\"1\" class=\"dataframe\">\n",
              "  <thead>\n",
              "    <tr style=\"text-align: right;\">\n",
              "      <th></th>\n",
              "      <th>LeaveOrNot</th>\n",
              "    </tr>\n",
              "  </thead>\n",
              "  <tbody>\n",
              "    <tr>\n",
              "      <th>0</th>\n",
              "      <td>0</td>\n",
              "    </tr>\n",
              "    <tr>\n",
              "      <th>1</th>\n",
              "      <td>1</td>\n",
              "    </tr>\n",
              "    <tr>\n",
              "      <th>2</th>\n",
              "      <td>1</td>\n",
              "    </tr>\n",
              "    <tr>\n",
              "      <th>3</th>\n",
              "      <td>1</td>\n",
              "    </tr>\n",
              "    <tr>\n",
              "      <th>4</th>\n",
              "      <td>1</td>\n",
              "    </tr>\n",
              "  </tbody>\n",
              "</table>\n",
              "</div>\n",
              "      <button class=\"colab-df-convert\" onclick=\"convertToInteractive('df-c40c828d-ba70-4bd5-a2aa-795b427eda14')\"\n",
              "              title=\"Convert this dataframe to an interactive table.\"\n",
              "              style=\"display:none;\">\n",
              "        \n",
              "  <svg xmlns=\"http://www.w3.org/2000/svg\" height=\"24px\"viewBox=\"0 0 24 24\"\n",
              "       width=\"24px\">\n",
              "    <path d=\"M0 0h24v24H0V0z\" fill=\"none\"/>\n",
              "    <path d=\"M18.56 5.44l.94 2.06.94-2.06 2.06-.94-2.06-.94-.94-2.06-.94 2.06-2.06.94zm-11 1L8.5 8.5l.94-2.06 2.06-.94-2.06-.94L8.5 2.5l-.94 2.06-2.06.94zm10 10l.94 2.06.94-2.06 2.06-.94-2.06-.94-.94-2.06-.94 2.06-2.06.94z\"/><path d=\"M17.41 7.96l-1.37-1.37c-.4-.4-.92-.59-1.43-.59-.52 0-1.04.2-1.43.59L10.3 9.45l-7.72 7.72c-.78.78-.78 2.05 0 2.83L4 21.41c.39.39.9.59 1.41.59.51 0 1.02-.2 1.41-.59l7.78-7.78 2.81-2.81c.8-.78.8-2.07 0-2.86zM5.41 20L4 18.59l7.72-7.72 1.47 1.35L5.41 20z\"/>\n",
              "  </svg>\n",
              "      </button>\n",
              "      \n",
              "  <style>\n",
              "    .colab-df-container {\n",
              "      display:flex;\n",
              "      flex-wrap:wrap;\n",
              "      gap: 12px;\n",
              "    }\n",
              "\n",
              "    .colab-df-convert {\n",
              "      background-color: #E8F0FE;\n",
              "      border: none;\n",
              "      border-radius: 50%;\n",
              "      cursor: pointer;\n",
              "      display: none;\n",
              "      fill: #1967D2;\n",
              "      height: 32px;\n",
              "      padding: 0 0 0 0;\n",
              "      width: 32px;\n",
              "    }\n",
              "\n",
              "    .colab-df-convert:hover {\n",
              "      background-color: #E2EBFA;\n",
              "      box-shadow: 0px 1px 2px rgba(60, 64, 67, 0.3), 0px 1px 3px 1px rgba(60, 64, 67, 0.15);\n",
              "      fill: #174EA6;\n",
              "    }\n",
              "\n",
              "    [theme=dark] .colab-df-convert {\n",
              "      background-color: #3B4455;\n",
              "      fill: #D2E3FC;\n",
              "    }\n",
              "\n",
              "    [theme=dark] .colab-df-convert:hover {\n",
              "      background-color: #434B5C;\n",
              "      box-shadow: 0px 1px 3px 1px rgba(0, 0, 0, 0.15);\n",
              "      filter: drop-shadow(0px 1px 2px rgba(0, 0, 0, 0.3));\n",
              "      fill: #FFFFFF;\n",
              "    }\n",
              "  </style>\n",
              "\n",
              "      <script>\n",
              "        const buttonEl =\n",
              "          document.querySelector('#df-c40c828d-ba70-4bd5-a2aa-795b427eda14 button.colab-df-convert');\n",
              "        buttonEl.style.display =\n",
              "          google.colab.kernel.accessAllowed ? 'block' : 'none';\n",
              "\n",
              "        async function convertToInteractive(key) {\n",
              "          const element = document.querySelector('#df-c40c828d-ba70-4bd5-a2aa-795b427eda14');\n",
              "          const dataTable =\n",
              "            await google.colab.kernel.invokeFunction('convertToInteractive',\n",
              "                                                     [key], {});\n",
              "          if (!dataTable) return;\n",
              "\n",
              "          const docLinkHtml = 'Like what you see? Visit the ' +\n",
              "            '<a target=\"_blank\" href=https://colab.research.google.com/notebooks/data_table.ipynb>data table notebook</a>'\n",
              "            + ' to learn more about interactive tables.';\n",
              "          element.innerHTML = '';\n",
              "          dataTable['output_type'] = 'display_data';\n",
              "          await google.colab.output.renderOutput(dataTable, element);\n",
              "          const docLink = document.createElement('div');\n",
              "          docLink.innerHTML = docLinkHtml;\n",
              "          element.appendChild(docLink);\n",
              "        }\n",
              "      </script>\n",
              "    </div>\n",
              "  </div>\n",
              "  "
            ],
            "text/plain": [
              "   LeaveOrNot\n",
              "0           0\n",
              "1           1\n",
              "2           1\n",
              "3           1\n",
              "4           1"
            ]
          },
          "metadata": {},
          "execution_count": 95
        }
      ]
    },
    {
      "cell_type": "code",
      "source": [
        "print(X)"
      ],
      "metadata": {
        "colab": {
          "base_uri": "https://localhost:8080/"
        },
        "id": "sG1euq8KgQO8",
        "outputId": "f8940a0b-a55d-44b0-f9cd-772ff09ee13f"
      },
      "execution_count": null,
      "outputs": [
        {
          "output_type": "stream",
          "name": "stdout",
          "text": [
            "['Education', 'JoiningYear', 'City', 'PaymentTier', 'Age', 'Gender', 'EverBenched', 'ExperienceInCurrentDomain']\n"
          ]
        }
      ]
    },
    {
      "cell_type": "code",
      "source": [
        "best_model.partial_plot(df, cols=['PaymentTier'])"
      ],
      "metadata": {
        "colab": {
          "base_uri": "https://localhost:8080/",
          "height": 362
        },
        "id": "k1lvt-sKgSPd",
        "outputId": "402f11c4-a455-4976-e3ac-6e73e1bc2a43"
      },
      "execution_count": null,
      "outputs": [
        {
          "output_type": "error",
          "ename": "H2OResponseError",
          "evalue": "ignored",
          "traceback": [
            "\u001b[0;31m---------------------------------------------------------------------------\u001b[0m",
            "\u001b[0;31mH2OResponseError\u001b[0m                          Traceback (most recent call last)",
            "\u001b[0;32m<ipython-input-99-c51a9ce936da>\u001b[0m in \u001b[0;36m<module>\u001b[0;34m()\u001b[0m\n\u001b[0;32m----> 1\u001b[0;31m \u001b[0mbest_model\u001b[0m\u001b[0;34m.\u001b[0m\u001b[0mpartial_plot\u001b[0m\u001b[0;34m(\u001b[0m\u001b[0mdf\u001b[0m\u001b[0;34m,\u001b[0m \u001b[0mcols\u001b[0m\u001b[0;34m=\u001b[0m\u001b[0;34m[\u001b[0m\u001b[0;34m'PaymentTier'\u001b[0m\u001b[0;34m]\u001b[0m\u001b[0;34m)\u001b[0m\u001b[0;34m\u001b[0m\u001b[0;34m\u001b[0m\u001b[0m\n\u001b[0m",
            "\u001b[0;32m/usr/local/lib/python3.7/dist-packages/h2o/utils/metaclass.py\u001b[0m in \u001b[0;36mwrapper\u001b[0;34m(*args, **kwargs)\u001b[0m\n\u001b[1;32m     94\u001b[0m             \u001b[0;32mfor\u001b[0m \u001b[0mmsg\u001b[0m \u001b[0;32min\u001b[0m \u001b[0mmessages\u001b[0m\u001b[0;34m:\u001b[0m\u001b[0;34m\u001b[0m\u001b[0;34m\u001b[0m\u001b[0m\n\u001b[1;32m     95\u001b[0m                 \u001b[0mwarnings\u001b[0m\u001b[0;34m.\u001b[0m\u001b[0mwarn\u001b[0m\u001b[0;34m(\u001b[0m\u001b[0mmsg\u001b[0m\u001b[0;34m,\u001b[0m \u001b[0mH2ODeprecationWarning\u001b[0m\u001b[0;34m,\u001b[0m \u001b[0;36m2\u001b[0m\u001b[0;34m)\u001b[0m\u001b[0;34m\u001b[0m\u001b[0;34m\u001b[0m\u001b[0m\n\u001b[0;32m---> 96\u001b[0;31m             \u001b[0;32mreturn\u001b[0m \u001b[0mfn\u001b[0m\u001b[0;34m(\u001b[0m\u001b[0;34m*\u001b[0m\u001b[0margs\u001b[0m\u001b[0;34m,\u001b[0m \u001b[0;34m**\u001b[0m\u001b[0mnew_kwargs\u001b[0m\u001b[0;34m)\u001b[0m\u001b[0;34m\u001b[0m\u001b[0;34m\u001b[0m\u001b[0m\n\u001b[0m\u001b[1;32m     97\u001b[0m \u001b[0;34m\u001b[0m\u001b[0m\n\u001b[1;32m     98\u001b[0m         \u001b[0m_set_decoration_info\u001b[0m\u001b[0;34m(\u001b[0m\u001b[0mwrapper\u001b[0m\u001b[0;34m,\u001b[0m \u001b[0mfn\u001b[0m\u001b[0;34m,\u001b[0m \u001b[0;34m'deprecation'\u001b[0m\u001b[0;34m)\u001b[0m\u001b[0;34m\u001b[0m\u001b[0;34m\u001b[0m\u001b[0m\n",
            "\u001b[0;32m/usr/local/lib/python3.7/dist-packages/h2o/model/model_base.py\u001b[0m in \u001b[0;36mpartial_plot\u001b[0;34m(self, data, cols, destination_key, nbins, weight_column, plot, plot_stddev, figsize, server, include_na, user_splits, col_pairs_2dpdp, save_plot_path, row_index, targets)\u001b[0m\n\u001b[1;32m   1179\u001b[0m         \u001b[0;32mif\u001b[0m \u001b[0mcols\u001b[0m \u001b[0;32mis\u001b[0m \u001b[0;32mnot\u001b[0m \u001b[0;32mNone\u001b[0m\u001b[0;34m:\u001b[0m\u001b[0;34m\u001b[0m\u001b[0;34m\u001b[0m\u001b[0m\n\u001b[1;32m   1180\u001b[0m             \u001b[0;32mfor\u001b[0m \u001b[0mxi\u001b[0m \u001b[0;32min\u001b[0m \u001b[0mcols\u001b[0m\u001b[0;34m:\u001b[0m\u001b[0;34m\u001b[0m\u001b[0;34m\u001b[0m\u001b[0m\n\u001b[0;32m-> 1181\u001b[0;31m                 \u001b[0;32mif\u001b[0m \u001b[0mxi\u001b[0m \u001b[0;32mnot\u001b[0m \u001b[0;32min\u001b[0m \u001b[0mdata\u001b[0m\u001b[0;34m.\u001b[0m\u001b[0mnames\u001b[0m\u001b[0;34m:\u001b[0m\u001b[0;34m\u001b[0m\u001b[0;34m\u001b[0m\u001b[0m\n\u001b[0m\u001b[1;32m   1182\u001b[0m                     \u001b[0;32mraise\u001b[0m \u001b[0mH2OValueError\u001b[0m\u001b[0;34m(\u001b[0m\u001b[0;34m\"Column %s does not exist in the training frame.\"\u001b[0m \u001b[0;34m%\u001b[0m \u001b[0mxi\u001b[0m\u001b[0;34m)\u001b[0m\u001b[0;34m\u001b[0m\u001b[0;34m\u001b[0m\u001b[0m\n\u001b[1;32m   1183\u001b[0m         \u001b[0;32mif\u001b[0m \u001b[0mcol_pairs_2dpdp\u001b[0m \u001b[0;32mis\u001b[0m \u001b[0;32mnot\u001b[0m \u001b[0;32mNone\u001b[0m\u001b[0;34m:\u001b[0m\u001b[0;34m\u001b[0m\u001b[0;34m\u001b[0m\u001b[0m\n",
            "\u001b[0;32m/usr/local/lib/python3.7/dist-packages/h2o/frame.py\u001b[0m in \u001b[0;36mnames\u001b[0;34m(self)\u001b[0m\n\u001b[1;32m    301\u001b[0m         \u001b[0;32mif\u001b[0m \u001b[0;32mnot\u001b[0m \u001b[0mself\u001b[0m\u001b[0;34m.\u001b[0m\u001b[0m_ex\u001b[0m\u001b[0;34m.\u001b[0m\u001b[0m_cache\u001b[0m\u001b[0;34m.\u001b[0m\u001b[0mnames_valid\u001b[0m\u001b[0;34m(\u001b[0m\u001b[0;34m)\u001b[0m\u001b[0;34m:\u001b[0m\u001b[0;34m\u001b[0m\u001b[0;34m\u001b[0m\u001b[0m\n\u001b[1;32m    302\u001b[0m             \u001b[0mself\u001b[0m\u001b[0;34m.\u001b[0m\u001b[0m_ex\u001b[0m\u001b[0;34m.\u001b[0m\u001b[0m_cache\u001b[0m\u001b[0;34m.\u001b[0m\u001b[0mflush\u001b[0m\u001b[0;34m(\u001b[0m\u001b[0;34m)\u001b[0m\u001b[0;34m\u001b[0m\u001b[0;34m\u001b[0m\u001b[0m\n\u001b[0;32m--> 303\u001b[0;31m             \u001b[0mself\u001b[0m\u001b[0;34m.\u001b[0m\u001b[0m_frame\u001b[0m\u001b[0;34m(\u001b[0m\u001b[0mfill_cache\u001b[0m\u001b[0;34m=\u001b[0m\u001b[0;32mTrue\u001b[0m\u001b[0;34m)\u001b[0m\u001b[0;34m\u001b[0m\u001b[0;34m\u001b[0m\u001b[0m\n\u001b[0m\u001b[1;32m    304\u001b[0m         \u001b[0;32mreturn\u001b[0m \u001b[0mlist\u001b[0m\u001b[0;34m(\u001b[0m\u001b[0mself\u001b[0m\u001b[0;34m.\u001b[0m\u001b[0m_ex\u001b[0m\u001b[0;34m.\u001b[0m\u001b[0m_cache\u001b[0m\u001b[0;34m.\u001b[0m\u001b[0mnames\u001b[0m\u001b[0;34m)\u001b[0m\u001b[0;34m\u001b[0m\u001b[0;34m\u001b[0m\u001b[0m\n\u001b[1;32m    305\u001b[0m \u001b[0;34m\u001b[0m\u001b[0m\n",
            "\u001b[0;32m/usr/local/lib/python3.7/dist-packages/h2o/frame.py\u001b[0m in \u001b[0;36m_frame\u001b[0;34m(self, rows, rows_offset, cols, cols_offset, fill_cache)\u001b[0m\n\u001b[1;32m    735\u001b[0m         \u001b[0mself\u001b[0m\u001b[0;34m.\u001b[0m\u001b[0m_ex\u001b[0m\u001b[0;34m.\u001b[0m\u001b[0m_eager_frame\u001b[0m\u001b[0;34m(\u001b[0m\u001b[0;34m)\u001b[0m\u001b[0;34m\u001b[0m\u001b[0;34m\u001b[0m\u001b[0m\n\u001b[1;32m    736\u001b[0m         \u001b[0;32mif\u001b[0m \u001b[0mfill_cache\u001b[0m\u001b[0;34m:\u001b[0m\u001b[0;34m\u001b[0m\u001b[0;34m\u001b[0m\u001b[0m\n\u001b[0;32m--> 737\u001b[0;31m             \u001b[0mself\u001b[0m\u001b[0;34m.\u001b[0m\u001b[0m_ex\u001b[0m\u001b[0;34m.\u001b[0m\u001b[0m_cache\u001b[0m\u001b[0;34m.\u001b[0m\u001b[0mfill\u001b[0m\u001b[0;34m(\u001b[0m\u001b[0mrows\u001b[0m\u001b[0;34m=\u001b[0m\u001b[0mrows\u001b[0m\u001b[0;34m,\u001b[0m \u001b[0mrows_offset\u001b[0m\u001b[0;34m=\u001b[0m\u001b[0mrows_offset\u001b[0m\u001b[0;34m,\u001b[0m \u001b[0mcols\u001b[0m\u001b[0;34m=\u001b[0m\u001b[0mcols\u001b[0m\u001b[0;34m,\u001b[0m \u001b[0mcols_offset\u001b[0m\u001b[0;34m=\u001b[0m\u001b[0mcols_offset\u001b[0m\u001b[0;34m)\u001b[0m\u001b[0;34m\u001b[0m\u001b[0;34m\u001b[0m\u001b[0m\n\u001b[0m\u001b[1;32m    738\u001b[0m         \u001b[0;32mreturn\u001b[0m \u001b[0mself\u001b[0m\u001b[0;34m\u001b[0m\u001b[0;34m\u001b[0m\u001b[0m\n\u001b[1;32m    739\u001b[0m \u001b[0;34m\u001b[0m\u001b[0m\n",
            "\u001b[0;32m/usr/local/lib/python3.7/dist-packages/h2o/expr.py\u001b[0m in \u001b[0;36mfill\u001b[0;34m(self, rows, rows_offset, cols, full_cols, cols_offset, light)\u001b[0m\n\u001b[1;32m    368\u001b[0m         \u001b[0;32melse\u001b[0m\u001b[0;34m:\u001b[0m\u001b[0;34m\u001b[0m\u001b[0;34m\u001b[0m\u001b[0m\n\u001b[1;32m    369\u001b[0m             \u001b[0mendpoint\u001b[0m \u001b[0;34m=\u001b[0m \u001b[0;34m\"/3/Frames/%s\"\u001b[0m\u001b[0;34m\u001b[0m\u001b[0;34m\u001b[0m\u001b[0m\n\u001b[0;32m--> 370\u001b[0;31m         \u001b[0mres\u001b[0m \u001b[0;34m=\u001b[0m \u001b[0mh2o\u001b[0m\u001b[0;34m.\u001b[0m\u001b[0mapi\u001b[0m\u001b[0;34m(\u001b[0m\u001b[0;34m\"GET \"\u001b[0m \u001b[0;34m+\u001b[0m \u001b[0mendpoint\u001b[0m \u001b[0;34m%\u001b[0m \u001b[0mself\u001b[0m\u001b[0;34m.\u001b[0m\u001b[0m_id\u001b[0m\u001b[0;34m,\u001b[0m \u001b[0mdata\u001b[0m\u001b[0;34m=\u001b[0m\u001b[0mreq_params\u001b[0m\u001b[0;34m)\u001b[0m\u001b[0;34m[\u001b[0m\u001b[0;34m\"frames\"\u001b[0m\u001b[0;34m]\u001b[0m\u001b[0;34m[\u001b[0m\u001b[0;36m0\u001b[0m\u001b[0;34m]\u001b[0m\u001b[0;34m\u001b[0m\u001b[0;34m\u001b[0m\u001b[0m\n\u001b[0m\u001b[1;32m    371\u001b[0m         \u001b[0mself\u001b[0m\u001b[0;34m.\u001b[0m\u001b[0m_l\u001b[0m \u001b[0;34m=\u001b[0m \u001b[0mrows\u001b[0m\u001b[0;34m\u001b[0m\u001b[0;34m\u001b[0m\u001b[0m\n\u001b[1;32m    372\u001b[0m         \u001b[0mself\u001b[0m\u001b[0;34m.\u001b[0m\u001b[0m_nrows\u001b[0m \u001b[0;34m=\u001b[0m \u001b[0mres\u001b[0m\u001b[0;34m[\u001b[0m\u001b[0;34m\"rows\"\u001b[0m\u001b[0;34m]\u001b[0m\u001b[0;34m\u001b[0m\u001b[0;34m\u001b[0m\u001b[0m\n",
            "\u001b[0;32m/usr/local/lib/python3.7/dist-packages/h2o/h2o.py\u001b[0m in \u001b[0;36mapi\u001b[0;34m(endpoint, data, json, filename, save_to)\u001b[0m\n\u001b[1;32m    122\u001b[0m     \u001b[0;31m# type checks are performed in H2OConnection class\u001b[0m\u001b[0;34m\u001b[0m\u001b[0;34m\u001b[0m\u001b[0;34m\u001b[0m\u001b[0m\n\u001b[1;32m    123\u001b[0m     \u001b[0m_check_connection\u001b[0m\u001b[0;34m(\u001b[0m\u001b[0;34m)\u001b[0m\u001b[0;34m\u001b[0m\u001b[0;34m\u001b[0m\u001b[0m\n\u001b[0;32m--> 124\u001b[0;31m     \u001b[0;32mreturn\u001b[0m \u001b[0mh2oconn\u001b[0m\u001b[0;34m.\u001b[0m\u001b[0mrequest\u001b[0m\u001b[0;34m(\u001b[0m\u001b[0mendpoint\u001b[0m\u001b[0;34m,\u001b[0m \u001b[0mdata\u001b[0m\u001b[0;34m=\u001b[0m\u001b[0mdata\u001b[0m\u001b[0;34m,\u001b[0m \u001b[0mjson\u001b[0m\u001b[0;34m=\u001b[0m\u001b[0mjson\u001b[0m\u001b[0;34m,\u001b[0m \u001b[0mfilename\u001b[0m\u001b[0;34m=\u001b[0m\u001b[0mfilename\u001b[0m\u001b[0;34m,\u001b[0m \u001b[0msave_to\u001b[0m\u001b[0;34m=\u001b[0m\u001b[0msave_to\u001b[0m\u001b[0;34m)\u001b[0m\u001b[0;34m\u001b[0m\u001b[0;34m\u001b[0m\u001b[0m\n\u001b[0m\u001b[1;32m    125\u001b[0m \u001b[0;34m\u001b[0m\u001b[0m\n\u001b[1;32m    126\u001b[0m \u001b[0;34m\u001b[0m\u001b[0m\n",
            "\u001b[0;32m/usr/local/lib/python3.7/dist-packages/h2o/backend/connection.py\u001b[0m in \u001b[0;36mrequest\u001b[0;34m(self, endpoint, data, json, filename, save_to)\u001b[0m\n\u001b[1;32m    475\u001b[0m                 \u001b[0msave_to\u001b[0m \u001b[0;34m=\u001b[0m \u001b[0msave_to\u001b[0m\u001b[0;34m(\u001b[0m\u001b[0mresp\u001b[0m\u001b[0;34m)\u001b[0m\u001b[0;34m\u001b[0m\u001b[0;34m\u001b[0m\u001b[0m\n\u001b[1;32m    476\u001b[0m             \u001b[0mself\u001b[0m\u001b[0;34m.\u001b[0m\u001b[0m_log_end_transaction\u001b[0m\u001b[0;34m(\u001b[0m\u001b[0mstart_time\u001b[0m\u001b[0;34m,\u001b[0m \u001b[0mresp\u001b[0m\u001b[0;34m)\u001b[0m\u001b[0;34m\u001b[0m\u001b[0;34m\u001b[0m\u001b[0m\n\u001b[0;32m--> 477\u001b[0;31m             \u001b[0;32mreturn\u001b[0m \u001b[0mself\u001b[0m\u001b[0;34m.\u001b[0m\u001b[0m_process_response\u001b[0m\u001b[0;34m(\u001b[0m\u001b[0mresp\u001b[0m\u001b[0;34m,\u001b[0m \u001b[0msave_to\u001b[0m\u001b[0;34m)\u001b[0m\u001b[0;34m\u001b[0m\u001b[0;34m\u001b[0m\u001b[0m\n\u001b[0m\u001b[1;32m    478\u001b[0m \u001b[0;34m\u001b[0m\u001b[0m\n\u001b[1;32m    479\u001b[0m         \u001b[0;32mexcept\u001b[0m \u001b[0;34m(\u001b[0m\u001b[0mrequests\u001b[0m\u001b[0;34m.\u001b[0m\u001b[0mexceptions\u001b[0m\u001b[0;34m.\u001b[0m\u001b[0mConnectionError\u001b[0m\u001b[0;34m,\u001b[0m \u001b[0mrequests\u001b[0m\u001b[0;34m.\u001b[0m\u001b[0mexceptions\u001b[0m\u001b[0;34m.\u001b[0m\u001b[0mHTTPError\u001b[0m\u001b[0;34m)\u001b[0m \u001b[0;32mas\u001b[0m \u001b[0me\u001b[0m\u001b[0;34m:\u001b[0m\u001b[0;34m\u001b[0m\u001b[0;34m\u001b[0m\u001b[0m\n",
            "\u001b[0;32m/usr/local/lib/python3.7/dist-packages/h2o/backend/connection.py\u001b[0m in \u001b[0;36m_process_response\u001b[0;34m(response, save_to)\u001b[0m\n\u001b[1;32m    826\u001b[0m         \u001b[0;32mif\u001b[0m \u001b[0mstatus_code\u001b[0m \u001b[0;32min\u001b[0m \u001b[0;34m{\u001b[0m\u001b[0;36m400\u001b[0m\u001b[0;34m,\u001b[0m \u001b[0;36m404\u001b[0m\u001b[0;34m,\u001b[0m \u001b[0;36m412\u001b[0m\u001b[0;34m}\u001b[0m \u001b[0;32mand\u001b[0m \u001b[0misinstance\u001b[0m\u001b[0;34m(\u001b[0m\u001b[0mdata\u001b[0m\u001b[0;34m,\u001b[0m \u001b[0mH2OErrorV3\u001b[0m\u001b[0;34m)\u001b[0m\u001b[0;34m:\u001b[0m\u001b[0;34m\u001b[0m\u001b[0;34m\u001b[0m\u001b[0m\n\u001b[1;32m    827\u001b[0m             \u001b[0mdata\u001b[0m\u001b[0;34m.\u001b[0m\u001b[0mshow_stacktrace\u001b[0m \u001b[0;34m=\u001b[0m \u001b[0;32mFalse\u001b[0m\u001b[0;34m\u001b[0m\u001b[0;34m\u001b[0m\u001b[0m\n\u001b[0;32m--> 828\u001b[0;31m             \u001b[0;32mraise\u001b[0m \u001b[0mH2OResponseError\u001b[0m\u001b[0;34m(\u001b[0m\u001b[0mdata\u001b[0m\u001b[0;34m)\u001b[0m\u001b[0;34m\u001b[0m\u001b[0;34m\u001b[0m\u001b[0m\n\u001b[0m\u001b[1;32m    829\u001b[0m \u001b[0;34m\u001b[0m\u001b[0m\n\u001b[1;32m    830\u001b[0m         \u001b[0;31m# Server errors (notably 500 = \"Server Error\")\u001b[0m\u001b[0;34m\u001b[0m\u001b[0;34m\u001b[0m\u001b[0;34m\u001b[0m\u001b[0m\n",
            "\u001b[0;31mH2OResponseError\u001b[0m: Server error water.exceptions.H2OKeyNotFoundArgumentException:\n  Error: Object 'py_22_sid_9723' not found for argument: key\n  Request: GET /3/Frames/py_22_sid_9723\n    params: {'row_count': '10', 'row_offset': '0', 'column_count': '-1', 'full_column_count': '-1', 'column_offset': '0'}\n"
          ]
        }
      ]
    },
    {
      "cell_type": "code",
      "source": [
        ""
      ],
      "metadata": {
        "id": "sE0DuIbegTkk"
      },
      "execution_count": null,
      "outputs": []
    }
  ]
}